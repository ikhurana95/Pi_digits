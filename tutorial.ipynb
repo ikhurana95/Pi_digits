{
 "cells": [
  {
   "cell_type": "markdown",
   "metadata": {},
   "source": [
    "# Handwritten digit recogniser\n",
    "\n"
   ]
  },
  {
   "cell_type": "code",
   "execution_count": 106,
   "metadata": {
    "collapsed": true
   },
   "outputs": [],
   "source": [
    "from keras.datasets import mnist\n",
    "import matplotlib.pyplot as plt\n",
    "import numpy as np\n",
    "from keras.datasets import mnist\n",
    "from keras.models import Sequential\n",
    "from keras.layers import Dense\n",
    "from keras.layers import Dropout\n",
    "from keras.utils import np_utils\n",
    "from sklearn import preprocessing\n",
    "import pickle\n",
    "from keras.models import model_from_yaml\n"
   ]
  },
  {
   "cell_type": "markdown",
   "metadata": {},
   "source": [
    "The code below is used to visualise the images from the data set. "
   ]
  },
  {
   "cell_type": "code",
   "execution_count": 116,
   "metadata": {},
   "outputs": [
    {
     "data": {
      "image/png": "[encoded data removed]",
      "text/plain": [
       "<matplotlib.figure.Figure at 0x1843c96400>"
      ]
     },
     "metadata": {},
     "output_type": "display_data"
    }
   ],
   "source": [
    "#load (download if needed) the MNIST dataset\n",
    "(x_train, y_train), (x_test, y_test) = mnist.load_data()\n",
    "\n",
    "# plot 4 images as gray scale\n",
    "fig = plt.figure()\n",
    "plt.subplot(221)\n",
    "plt.imshow(X_train[0], cmap=plt.get_cmap('gray'))\n",
    "plt.subplot(222)\n",
    "plt.imshow(X_train[1], cmap=plt.get_cmap('gray'))\n",
    "plt.subplot(223)\n",
    "plt.imshow(X_train[2], cmap=plt.get_cmap('gray'))\n",
    "plt.subplot(224)\n",
    "plt.imshow(X_train[3], cmap=plt.get_cmap('gray'))\n",
    "\n",
    "fig.set_size_inches(16,8)\n",
    "\n",
    "\n",
    "# show the plot\n",
    "plt.show()"
   ]
  },
  {
   "cell_type": "markdown",
   "metadata": {},
   "source": [
    "**Defining some useful functions**"
   ]
  },
  {
   "cell_type": "code",
   "execution_count": 117,
   "metadata": {
    "collapsed": true
   },
   "outputs": [],
   "source": [
    "def classifier():\n",
    "    \"\"\"\n",
    "    Creates an model for MNIST image classification with input dimension 784\n",
    "    returns: Keras model\n",
    "    \"\"\"\n",
    "    \n",
    "    model = Sequential()\n",
    "    model.add(Dense(num_pixels,input_dim=num_pixels,kernel_initializer='normal',activation='relu'))\n",
    "    model.add(Dense(int(num_pixels/2),activation='relu'))\n",
    "    model.add(Dropout(0.2))\n",
    "    model.add(Dense(int(num_pixels/2),activation='relu'))\n",
    "    model.add(Dense(int(num_pixels/2),activation='relu'))\n",
    "    \n",
    "    model.add(Dense(num_classes,activation='softmax'))\n",
    "    \n",
    "    return model\n",
    "\n",
    "def writeResultsToFile(events,filePath):\n",
    "    \"\"\"\n",
    "    Writes events to pickle file. Ideally dump few objects where the objects could be any data structures\n",
    "    containing other objects\n",
    "    :param events:\n",
    "    :param filePath:\n",
    "    \"\"\"\n",
    "    print(\"Writing...\")\n",
    "    if filePath[-3:]!=\"pkl\":\n",
    "        filePath = filePath+\".pkl\"\n",
    "\n",
    "    with open(filePath, \"wb\") as output:\n",
    "\n",
    "        pickle.dump(events, output, pickle.HIGHEST_PROTOCOL)\n",
    "        \n",
    "def loadResultsFromFile(filePath,python2 = False):\n",
    "    \"\"\"\n",
    "    Loads objects from pickle file\n",
    "    :param filePath:\n",
    "    :return: values in pickle file\n",
    "    \"\"\"\n",
    "    load = []\n",
    "    print(\"Loading...\")\n",
    "    with open(filePath, \"rb\") as file:\n",
    "        hasNext = True\n",
    "        if python2:\n",
    "\n",
    "            load.append(pickle.load(file))\n",
    "        else:\n",
    "            load.append(pickle.load(file, encoding='latin1'))\n",
    "        while hasNext:\n",
    "            try:\n",
    "                if python2:\n",
    "                    load.append(pickle.load(file))\n",
    "                else:\n",
    "                    load.append(pickle.load(file, encoding='latin1'))\n",
    "            except:\n",
    "                hasNext = False\n",
    "\n",
    "    if len(load) == 1:\n",
    "        return load[0]\n",
    "    else:\n",
    "        return load\n",
    "    \n"
   ]
  },
  {
   "cell_type": "code",
   "execution_count": 126,
   "metadata": {},
   "outputs": [
    {
     "name": "stdout",
     "output_type": "stream",
     "text": [
      "Train on 60000 samples, validate on 10000 samples\n",
      "Epoch 1/10\n",
      "60000/60000 [==============================] - 18s 307us/step - loss: 0.2395 - acc: 0.9286 - val_loss: 0.1120 - val_acc: 0.9645\n",
      "Epoch 2/10\n",
      "60000/60000 [==============================] - 17s 283us/step - loss: 0.0877 - acc: 0.9728 - val_loss: 0.0800 - val_acc: 0.9737\n",
      "Epoch 3/10\n",
      "60000/60000 [==============================] - 18s 303us/step - loss: 0.0583 - acc: 0.9813 - val_loss: 0.0742 - val_acc: 0.9769\n",
      "Epoch 4/10\n",
      "60000/60000 [==============================] - 18s 303us/step - loss: 0.0470 - acc: 0.9855 - val_loss: 0.0717 - val_acc: 0.9783\n",
      "Epoch 5/10\n",
      "60000/60000 [==============================] - 17s 292us/step - loss: 0.0357 - acc: 0.9891 - val_loss: 0.0738 - val_acc: 0.9789\n",
      "Epoch 6/10\n",
      "60000/60000 [==============================] - 19s 316us/step - loss: 0.0275 - acc: 0.9915 - val_loss: 0.0702 - val_acc: 0.9822\n",
      "Epoch 7/10\n",
      "60000/60000 [==============================] - 20s 328us/step - loss: 0.0273 - acc: 0.9915 - val_loss: 0.0951 - val_acc: 0.9758\n",
      "Epoch 8/10\n",
      "60000/60000 [==============================] - 16s 267us/step - loss: 0.0259 - acc: 0.9917 - val_loss: 0.0797 - val_acc: 0.9789\n",
      "Epoch 9/10\n",
      "60000/60000 [==============================] - 16s 270us/step - loss: 0.0224 - acc: 0.9929 - val_loss: 0.0631 - val_acc: 0.9840\n",
      "Epoch 10/10\n",
      "60000/60000 [==============================] - 17s 275us/step - loss: 0.0175 - acc: 0.9946 - val_loss: 0.0743 - val_acc: 0.9813\n",
      "Writing...\n"
     ]
    }
   ],
   "source": [
    "# flatten 28*28 images to a 784 vector for each image\n",
    "(x_train, y_train), (x_test, y_test) = mnist.load_data()\n",
    "\n",
    "num_pixels = x_train.shape[1] * x_train.shape[2]\n",
    "x_train = x_train.reshape(x_train.shape[0], num_pixels).astype('float32')\n",
    "x_test = x_test.reshape(x_test.shape[0], num_pixels).astype('float32')\n",
    "\n",
    "# one hot encode outputs\n",
    "y_train = np_utils.to_categorical(y_train)\n",
    "y_test = np_utils.to_categorical(y_test)\n",
    "num_classes = y_test.shape[1]\n",
    "\n",
    "num_classes = 10\n",
    "\n",
    "\n",
    "# Scale Data \n",
    "scaler = preprocessing.MinMaxScaler(feature_range=(0,1))\n",
    "scaler.fit(x_train)\n",
    "x_train = scaler.transform(x_train)\n",
    "\n",
    "scaler.fit(x_test)\n",
    "x_test = scaler.transform(x_test)\n",
    "\n",
    "\n",
    "# Create and compile model\n",
    "\n",
    "model = classifier()\n",
    "model.compile(loss='categorical_crossentropy',optimizer='adam',metrics=['accuracy'])\n",
    "model.fit(x_train,y_train,validation_data=(x_test, y_test), epochs=10, batch_size=200,verbose = 1)\n",
    "\n",
    "\n",
    "yaml_string = model.to_yaml()\n",
    "writeResultsToFile(yaml_string,\"model_yaml.pkl\")\n",
    "model.save_weights('neural_net_weights')\n",
    "\n",
    "\n",
    "\n"
   ]
  },
  {
   "cell_type": "code",
   "execution_count": 127,
   "metadata": {},
   "outputs": [
    {
     "name": "stdout",
     "output_type": "stream",
     "text": [
      "Loading...\n"
     ]
    }
   ],
   "source": [
    "model_loaded = loadResultsFromFile('model_yaml.pkl')\n",
    "model_loaded = model_from_yaml(model_loaded)\n",
    "model_loaded.load_weights('neural_net_weights')"
   ]
  },
  {
   "cell_type": "code",
   "execution_count": null,
   "metadata": {},
   "outputs": [],
   "source": [
    "# Testing loaded model\n",
    "\n",
    "\n"
   ]
  },
  {
   "cell_type": "code",
   "execution_count": 48,
   "metadata": {},
   "outputs": [
    {
     "data": {
      "text/plain": [
       "10"
      ]
     },
     "execution_count": 48,
     "metadata": {},
     "output_type": "execute_result"
    }
   ],
   "source": [
    "# y_train = np_utils.to_categorical(y_train)\n",
    "# y_test = np_utils.to_categorical(y_test)\n",
    "num_classes = y_test.shape[1]\n"
   ]
  },
  {
   "cell_type": "code",
   "execution_count": 59,
   "metadata": {},
   "outputs": [
    {
     "ename": "ValueError",
     "evalue": "Error when checking : expected dense_13_input to have shape (None, 784) but got array with shape (784, 1)",
     "output_type": "error",
     "traceback": [
      "\u001b[0;31m---------------------------------------------------------------------------\u001b[0m",
      "\u001b[0;31mValueError\u001b[0m                                Traceback (most recent call last)",
      "\u001b[0;32m<ipython-input-59-b138c8806840>\u001b[0m in \u001b[0;36m<module>\u001b[0;34m()\u001b[0m\n\u001b[0;32m----> 1\u001b[0;31m \u001b[0mprediction\u001b[0m \u001b[0;34m=\u001b[0m \u001b[0mmodel\u001b[0m\u001b[0;34m.\u001b[0m\u001b[0mpredict\u001b[0m\u001b[0;34m(\u001b[0m\u001b[0mx_train\u001b[0m\u001b[0;34m[\u001b[0m\u001b[0;36m0\u001b[0m\u001b[0;34m]\u001b[0m\u001b[0;34m[\u001b[0m\u001b[0;34m:\u001b[0m\u001b[0;34m,\u001b[0m\u001b[0;34m]\u001b[0m\u001b[0;34m)\u001b[0m\u001b[0;34m\u001b[0m\u001b[0m\n\u001b[0m\u001b[1;32m      2\u001b[0m \u001b[0mprint\u001b[0m\u001b[0;34m(\u001b[0m\u001b[0mprediction\u001b[0m\u001b[0;34m)\u001b[0m\u001b[0;34m\u001b[0m\u001b[0m\n",
      "\u001b[0;32m/Users/ishankhurana/anaconda3/lib/python3.6/site-packages/keras/models.py\u001b[0m in \u001b[0;36mpredict\u001b[0;34m(self, x, batch_size, verbose)\u001b[0m\n\u001b[1;32m   1004\u001b[0m         \u001b[0;32mif\u001b[0m \u001b[0;32mnot\u001b[0m \u001b[0mself\u001b[0m\u001b[0;34m.\u001b[0m\u001b[0mbuilt\u001b[0m\u001b[0;34m:\u001b[0m\u001b[0;34m\u001b[0m\u001b[0m\n\u001b[1;32m   1005\u001b[0m             \u001b[0mself\u001b[0m\u001b[0;34m.\u001b[0m\u001b[0mbuild\u001b[0m\u001b[0;34m(\u001b[0m\u001b[0;34m)\u001b[0m\u001b[0;34m\u001b[0m\u001b[0m\n\u001b[0;32m-> 1006\u001b[0;31m         \u001b[0;32mreturn\u001b[0m \u001b[0mself\u001b[0m\u001b[0;34m.\u001b[0m\u001b[0mmodel\u001b[0m\u001b[0;34m.\u001b[0m\u001b[0mpredict\u001b[0m\u001b[0;34m(\u001b[0m\u001b[0mx\u001b[0m\u001b[0;34m,\u001b[0m \u001b[0mbatch_size\u001b[0m\u001b[0;34m=\u001b[0m\u001b[0mbatch_size\u001b[0m\u001b[0;34m,\u001b[0m \u001b[0mverbose\u001b[0m\u001b[0;34m=\u001b[0m\u001b[0mverbose\u001b[0m\u001b[0;34m)\u001b[0m\u001b[0;34m\u001b[0m\u001b[0m\n\u001b[0m\u001b[1;32m   1007\u001b[0m \u001b[0;34m\u001b[0m\u001b[0m\n\u001b[1;32m   1008\u001b[0m     \u001b[0;32mdef\u001b[0m \u001b[0mpredict_on_batch\u001b[0m\u001b[0;34m(\u001b[0m\u001b[0mself\u001b[0m\u001b[0;34m,\u001b[0m \u001b[0mx\u001b[0m\u001b[0;34m)\u001b[0m\u001b[0;34m:\u001b[0m\u001b[0;34m\u001b[0m\u001b[0m\n",
      "\u001b[0;32m/Users/ishankhurana/anaconda3/lib/python3.6/site-packages/keras/engine/training.py\u001b[0m in \u001b[0;36mpredict\u001b[0;34m(self, x, batch_size, verbose, steps)\u001b[0m\n\u001b[1;32m   1763\u001b[0m         x = _standardize_input_data(x, self._feed_input_names,\n\u001b[1;32m   1764\u001b[0m                                     \u001b[0mself\u001b[0m\u001b[0;34m.\u001b[0m\u001b[0m_feed_input_shapes\u001b[0m\u001b[0;34m,\u001b[0m\u001b[0;34m\u001b[0m\u001b[0m\n\u001b[0;32m-> 1765\u001b[0;31m                                     check_batch_axis=False)\n\u001b[0m\u001b[1;32m   1766\u001b[0m         \u001b[0;32mif\u001b[0m \u001b[0mself\u001b[0m\u001b[0;34m.\u001b[0m\u001b[0mstateful\u001b[0m\u001b[0;34m:\u001b[0m\u001b[0;34m\u001b[0m\u001b[0m\n\u001b[1;32m   1767\u001b[0m             \u001b[0;32mif\u001b[0m \u001b[0mx\u001b[0m\u001b[0;34m[\u001b[0m\u001b[0;36m0\u001b[0m\u001b[0;34m]\u001b[0m\u001b[0;34m.\u001b[0m\u001b[0mshape\u001b[0m\u001b[0;34m[\u001b[0m\u001b[0;36m0\u001b[0m\u001b[0;34m]\u001b[0m \u001b[0;34m>\u001b[0m \u001b[0mbatch_size\u001b[0m \u001b[0;32mand\u001b[0m \u001b[0mx\u001b[0m\u001b[0;34m[\u001b[0m\u001b[0;36m0\u001b[0m\u001b[0;34m]\u001b[0m\u001b[0;34m.\u001b[0m\u001b[0mshape\u001b[0m\u001b[0;34m[\u001b[0m\u001b[0;36m0\u001b[0m\u001b[0;34m]\u001b[0m \u001b[0;34m%\u001b[0m \u001b[0mbatch_size\u001b[0m \u001b[0;34m!=\u001b[0m \u001b[0;36m0\u001b[0m\u001b[0;34m:\u001b[0m\u001b[0;34m\u001b[0m\u001b[0m\n",
      "\u001b[0;32m/Users/ishankhurana/anaconda3/lib/python3.6/site-packages/keras/engine/training.py\u001b[0m in \u001b[0;36m_standardize_input_data\u001b[0;34m(data, names, shapes, check_batch_axis, exception_prefix)\u001b[0m\n\u001b[1;32m    151\u001b[0m                             \u001b[0;34m' to have shape '\u001b[0m \u001b[0;34m+\u001b[0m \u001b[0mstr\u001b[0m\u001b[0;34m(\u001b[0m\u001b[0mshapes\u001b[0m\u001b[0;34m[\u001b[0m\u001b[0mi\u001b[0m\u001b[0;34m]\u001b[0m\u001b[0;34m)\u001b[0m \u001b[0;34m+\u001b[0m\u001b[0;34m\u001b[0m\u001b[0m\n\u001b[1;32m    152\u001b[0m                             \u001b[0;34m' but got array with shape '\u001b[0m \u001b[0;34m+\u001b[0m\u001b[0;34m\u001b[0m\u001b[0m\n\u001b[0;32m--> 153\u001b[0;31m                             str(array.shape))\n\u001b[0m\u001b[1;32m    154\u001b[0m     \u001b[0;32mreturn\u001b[0m \u001b[0marrays\u001b[0m\u001b[0;34m\u001b[0m\u001b[0m\n\u001b[1;32m    155\u001b[0m \u001b[0;34m\u001b[0m\u001b[0m\n",
      "\u001b[0;31mValueError\u001b[0m: Error when checking : expected dense_13_input to have shape (None, 784) but got array with shape (784, 1)"
     ]
    }
   ],
   "source": [
    "print(prediction)"
   ]
  },
  {
   "cell_type": "code",
   "execution_count": 82,
   "metadata": {},
   "outputs": [
    {
     "name": "stdout",
     "output_type": "stream",
     "text": [
      "0\n"
     ]
    }
   ],
   "source": [
    "import numpy as np\n",
    "example = x_train[0]\n",
    "example = example.reshape(1,784)\n",
    "solution  = model.predict(example)\n",
    "\n",
    "print(np.argmax(solution))"
   ]
  },
  {
   "cell_type": "code",
   "execution_count": 83,
   "metadata": {
    "collapsed": true
   },
   "outputs": [],
   "source": []
  },
  {
   "cell_type": "code",
   "execution_count": 88,
   "metadata": {},
   "outputs": [],
   "source": [
    "\n",
    "# model = model_from_yaml(yaml_string)"
   ]
  },
  {
   "cell_type": "code",
   "execution_count": 90,
   "metadata": {},
   "outputs": [
    {
     "name": "stdout",
     "output_type": "stream",
     "text": [
      "Writing...\n"
     ]
    }
   ],
   "source": [
    "\n",
    "\n",
    "\n",
    "        \n",
    "\n",
    "    \n"
   ]
  },
  {
   "cell_type": "code",
   "execution_count": 91,
   "metadata": {},
   "outputs": [
    {
     "name": "stdout",
     "output_type": "stream",
     "text": [
      "Loading...\n"
     ]
    }
   ],
   "source": [
    "def loadResultsFromFile(filePath,python2 = False):\n",
    "    \"\"\"\n",
    "    Loads objects from pickle file\n",
    "    :param filePath:\n",
    "    :return: values in pickle file\n",
    "    \"\"\"\n",
    "    load = []\n",
    "    print(\"Loading...\")\n",
    "    with open(filePath, \"rb\") as file:\n",
    "        hasNext = True\n",
    "        if python2:\n",
    "\n",
    "            load.append(pickle.load(file))\n",
    "        else:\n",
    "            load.append(pickle.load(file, encoding='latin1'))\n",
    "        while hasNext:\n",
    "            try:\n",
    "                if python2:\n",
    "                    load.append(pickle.load(file))\n",
    "                else:\n",
    "                    load.append(pickle.load(file, encoding='latin1'))\n",
    "            except:\n",
    "                hasNext = False\n",
    "\n",
    "    if len(load) == 1:\n",
    "        return load[0]\n",
    "    else:\n",
    "        return load\n",
    "    \n",
    "\n",
    "model_loaded = loadResultsFromFile('model_1.pkl')"
   ]
  },
  {
   "cell_type": "code",
   "execution_count": 119,
   "metadata": {},
   "outputs": [
    {
     "name": "stdout",
     "output_type": "stream",
     "text": [
      "Loading...\n"
     ]
    }
   ],
   "source": [
    "model_loaded = loadResultsFromFile('model_1.pkl')\n",
    "model_loaded = model_from_yaml(model_loaded)\n",
    "model_loaded.load_weights('neural_net_work')\n"
   ]
  },
  {
   "cell_type": "code",
   "execution_count": 128,
   "metadata": {},
   "outputs": [
    {
     "name": "stdout",
     "output_type": "stream",
     "text": [
      "5\n"
     ]
    }
   ],
   "source": [
    "example = x_train[0]\n",
    "example = example.reshape(1,784)\n",
    "\n",
    "print(np.argmax(model_loaded.predict(example)))"
   ]
  },
  {
   "cell_type": "code",
   "execution_count": null,
   "metadata": {
    "collapsed": true
   },
   "outputs": [],
   "source": [
    "model = "
   ]
  }
 ],
 "metadata": {
  "kernelspec": {
   "display_name": "Python 3",
   "language": "python",
   "name": "python3"
  },
  "language_info": {
   "codemirror_mode": {
    "name": "ipython",
    "version": 3
   },
   "file_extension": ".py",
   "mimetype": "text/x-python",
   "name": "python",
   "nbconvert_exporter": "python",
   "pygments_lexer": "ipython3",
   "version": "3.6.1"
  }
 },
 "nbformat": 4,
 "nbformat_minor": 2
}
