{
 "cells": [
  {
   "cell_type": "markdown",
   "metadata": {},
   "source": [
    "# Handwritten digit recogniser\n",
    "\n",
    "This tutorial is under constructions so all explanations aren't present. "
   ]
  },
  {
   "cell_type": "code",
   "execution_count": 131,
   "metadata": {
    "collapsed": true
   },
   "outputs": [],
   "source": [
    "from keras.datasets import mnist\n",
    "import matplotlib.pyplot as plt\n",
    "import numpy as np\n",
    "from keras.datasets import mnist\n",
    "from keras.models import Sequential\n",
    "from keras.layers import Dense\n",
    "from keras.layers import Dropout\n",
    "from keras.utils import np_utils\n",
    "from sklearn import preprocessing\n",
    "import pickle\n",
    "from keras.models import model_from_yaml\n",
    "\n",
    "%matplotlib inline"
   ]
  },
  {
   "cell_type": "markdown",
   "metadata": {},
   "source": [
    "The code below is used to visualise the images from the data set. "
   ]
  },
  {
   "cell_type": "code",
   "execution_count": 137,
   "metadata": {},
   "outputs": [
    {
     "data": {
      "image/png": "[encoded data removed]",
      "text/plain": [
       "<matplotlib.figure.Figure at 0x1a8ec23c50>"
      ]
     },
     "metadata": {},
     "output_type": "display_data"
    }
   ],
   "source": [
    "#load (download if needed) the MNIST dataset\n",
    "(X_train, y_train), (X_test, y_test) = mnist.load_data()\n",
    "\n",
    "# plot 4 images as gray scale\n",
    "fig = plt.figure()\n",
    "plt.subplot(221)\n",
    "plt.imshow(X_train[0], cmap=plt.get_cmap('gray'))\n",
    "plt.subplot(222)\n",
    "plt.imshow(X_train[1], cmap=plt.get_cmap('gray'))\n",
    "plt.subplot(223)\n",
    "plt.imshow(X_train[2], cmap=plt.get_cmap('gray'))\n",
    "plt.subplot(224)\n",
    "plt.imshow(X_train[3], cmap=plt.get_cmap('gray'))\n",
    "\n",
    "fig.set_size_inches(16,8)\n",
    "\n",
    "\n",
    "# show the plot\n",
    "plt.show()"
   ]
  },
  {
   "cell_type": "markdown",
   "metadata": {},
   "source": [
    "**Defining some useful functions**"
   ]
  },
  {
   "cell_type": "code",
   "execution_count": 117,
   "metadata": {
    "collapsed": true
   },
   "outputs": [],
   "source": [
    "def classifier():\n",
    "    \"\"\"\n",
    "    Creates an model for MNIST image classification with input dimension 784\n",
    "    returns: Keras model\n",
    "    \"\"\"\n",
    "    \n",
    "    model = Sequential()\n",
    "    model.add(Dense(num_pixels,input_dim=num_pixels,kernel_initializer='normal',activation='relu'))\n",
    "    model.add(Dense(int(num_pixels/2),activation='relu'))\n",
    "    model.add(Dropout(0.2))\n",
    "    model.add(Dense(int(num_pixels/2),activation='relu'))\n",
    "    model.add(Dense(int(num_pixels/2),activation='relu'))\n",
    "    \n",
    "    model.add(Dense(num_classes,activation='softmax'))\n",
    "    \n",
    "    return model\n",
    "\n",
    "def writeResultsToFile(events,filePath):\n",
    "    \"\"\"\n",
    "    Writes events to pickle file. Ideally dump few objects where the objects could be any data structures\n",
    "    containing other objects\n",
    "    :param events:\n",
    "    :param filePath:\n",
    "    \"\"\"\n",
    "    print(\"Writing...\")\n",
    "    if filePath[-3:]!=\"pkl\":\n",
    "        filePath = filePath+\".pkl\"\n",
    "\n",
    "    with open(filePath, \"wb\") as output:\n",
    "\n",
    "        pickle.dump(events, output, pickle.HIGHEST_PROTOCOL)\n",
    "        \n",
    "def loadResultsFromFile(filePath,python2 = False):\n",
    "    \"\"\"\n",
    "    Loads objects from pickle file\n",
    "    :param filePath:\n",
    "    :return: values in pickle file\n",
    "    \"\"\"\n",
    "    load = []\n",
    "    print(\"Loading...\")\n",
    "    with open(filePath, \"rb\") as file:\n",
    "        hasNext = True\n",
    "        if python2:\n",
    "\n",
    "            load.append(pickle.load(file))\n",
    "        else:\n",
    "            load.append(pickle.load(file, encoding='latin1'))\n",
    "        while hasNext:\n",
    "            try:\n",
    "                if python2:\n",
    "                    load.append(pickle.load(file))\n",
    "                else:\n",
    "                    load.append(pickle.load(file, encoding='latin1'))\n",
    "            except:\n",
    "                hasNext = False\n",
    "\n",
    "    if len(load) == 1:\n",
    "        return load[0]\n",
    "    else:\n",
    "        return load\n",
    "    \n"
   ]
  },
  {
   "cell_type": "markdown",
   "metadata": {},
   "source": [
    "# Preprocessing the data\n",
    "\n",
    "The images from MNIST are in the form of 28 x 28 matrices containing values between 0 and 255. These are converted to a flat 784 element numpy array with values between 0 and 1. "
   ]
  },
  {
   "cell_type": "code",
   "execution_count": 158,
   "metadata": {},
   "outputs": [
    {
     "name": "stdout",
     "output_type": "stream",
     "text": [
      "Train on 60000 samples, validate on 10000 samples\n",
      "Epoch 1/10\n",
      "60000/60000 [==============================] - 20s 329us/step - loss: 0.2450 - acc: 0.9256 - val_loss: 0.1398 - val_acc: 0.9547\n",
      "Epoch 2/10\n",
      "60000/60000 [==============================] - 18s 306us/step - loss: 0.0905 - acc: 0.9728 - val_loss: 0.0957 - val_acc: 0.9725\n",
      "Epoch 3/10\n",
      "60000/60000 [==============================] - 18s 292us/step - loss: 0.0609 - acc: 0.9807 - val_loss: 0.0758 - val_acc: 0.9777\n",
      "Epoch 4/10\n",
      "60000/60000 [==============================] - 16s 262us/step - loss: 0.0461 - acc: 0.9856 - val_loss: 0.0733 - val_acc: 0.9786\n",
      "Epoch 5/10\n",
      "60000/60000 [==============================] - 15s 244us/step - loss: 0.0358 - acc: 0.9889 - val_loss: 0.0859 - val_acc: 0.9778\n",
      "Epoch 6/10\n",
      "60000/60000 [==============================] - 14s 239us/step - loss: 0.0310 - acc: 0.9902 - val_loss: 0.0770 - val_acc: 0.9798\n",
      "Epoch 7/10\n",
      "60000/60000 [==============================] - 14s 234us/step - loss: 0.0253 - acc: 0.9919 - val_loss: 0.0693 - val_acc: 0.9812\n",
      "Epoch 8/10\n",
      "60000/60000 [==============================] - 14s 230us/step - loss: 0.0231 - acc: 0.9923 - val_loss: 0.0822 - val_acc: 0.9820\n",
      "Epoch 9/10\n",
      "60000/60000 [==============================] - 15s 251us/step - loss: 0.0212 - acc: 0.9930 - val_loss: 0.0885 - val_acc: 0.9806\n",
      "Epoch 10/10\n",
      "60000/60000 [==============================] - 15s 255us/step - loss: 0.0213 - acc: 0.9932 - val_loss: 0.0821 - val_acc: 0.9814\n",
      "Writing...\n"
     ]
    }
   ],
   "source": [
    "# flatten 28*28 images to a 784 vector for each image\n",
    "(x_train, y_train), (x_test, y_test) = mnist.load_data()\n",
    "\n",
    "num_pixels = x_train.shape[1] * x_train.shape[2]\n",
    "x_train = x_train.reshape(x_train.shape[0], num_pixels).astype('float32')\n",
    "x_test = x_test.reshape(x_test.shape[0], num_pixels).astype('float32')\n",
    "\n",
    "# one hot encode outputs\n",
    "y_train = np_utils.to_categorical(y_train)\n",
    "y_test = np_utils.to_categorical(y_test)\n",
    "num_classes = y_test.shape[1]\n",
    "\n",
    "num_classes = 10\n",
    "\n",
    "\n",
    "# Scale Data \n",
    "scaler = preprocessing.MinMaxScaler(feature_range=(0,1))\n",
    "scaler.fit(x_train)\n",
    "x_train = scaler.transform(x_train)\n",
    "\n",
    "scaler.fit(x_test)\n",
    "x_test = scaler.transform(x_test)\n",
    "\n",
    "\n",
    "# Create and compile model\n",
    "\n",
    "model = classifier()\n",
    "model.compile(loss='categorical_crossentropy',optimizer='adam',metrics=['accuracy'])\n",
    "model.fit(x_train,y_train,validation_data=(x_test, y_test), epochs=10, batch_size=200,verbose = 1)\n",
    "\n",
    "# Save model to file\n",
    "yaml_string = model.to_yaml()\n",
    "writeResultsToFile(yaml_string,\"model_yaml.pkl\")\n",
    "model.save_weights('neural_net_weights')\n",
    "\n",
    "\n"
   ]
  },
  {
   "cell_type": "code",
   "execution_count": 161,
   "metadata": {},
   "outputs": [
    {
     "name": "stdout",
     "output_type": "stream",
     "text": [
      "Loading...\n"
     ]
    },
    {
     "data": {
      "text/plain": [
       "<matplotlib.text.Text at 0x1a953f0a58>"
      ]
     },
     "execution_count": 161,
     "metadata": {},
     "output_type": "execute_result"
    },
    {
     "data": {
      "image/png": "[encoded data removed]",
      "text/plain": [
       "<matplotlib.figure.Figure at 0x1a98cf6f28>"
      ]
     },
     "metadata": {},
     "output_type": "display_data"
    }
   ],
   "source": [
    "# Test loaded model\n",
    "model_loaded = loadResultsFromFile('model_yaml.pkl');\n",
    "model_loaded = model_from_yaml(model_loaded)\n",
    "model_loaded.load_weights('neural_net_weights')\n",
    "\n",
    "# Select \n",
    "test_index = np.random.randint(len(x_train))\n",
    "\n",
    "example = x_train[test_index]\n",
    "example = example.reshape(1,784)\n",
    "solution  = model.predict(example)\n",
    "\n",
    "# Plot image and print classification\n",
    "fig = plt.figure()\n",
    "plt.subplot(221)\n",
    "plt.imshow(X_train[test_index], cmap=plt.get_cmap('gray'))\n",
    "fig.set_size_inches(12,9)\n",
    "solution = str(np.argmax(solution))\n",
    "plt.title(\"This image is classified as a \"+solution)\n"
   ]
  }
 ],
 "metadata": {
  "kernelspec": {
   "display_name": "Python 3",
   "language": "python",
   "name": "python3"
  },
  "language_info": {
   "codemirror_mode": {
    "name": "ipython",
    "version": 3
   },
   "file_extension": ".py",
   "mimetype": "text/x-python",
   "name": "python",
   "nbconvert_exporter": "python",
   "pygments_lexer": "ipython3",
   "version": "3.6.1"
  }
 },
 "nbformat": 4,
 "nbformat_minor": 2
}
